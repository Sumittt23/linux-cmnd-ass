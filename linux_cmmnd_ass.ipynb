{
  "nbformat": 4,
  "nbformat_minor": 0,
  "metadata": {
    "colab": {
      "provenance": []
    },
    "kernelspec": {
      "name": "python3",
      "display_name": "Python 3"
    },
    "language_info": {
      "name": "python"
    }
  },
  "cells": [
    {
      "cell_type": "markdown",
      "source": [
        "1.What is Linux?\n",
        "   \n",
        "   - Its an Operating System just like Windows and OS.\n",
        "\n",
        "2.What is the difference between Hard Link & Soft Link?\n",
        "   \n",
        "   - A hard link is an additional name for a file that points directly to the same data on disk. Even if the original file is deleted, the data remains accessible through the hard link.A soft link,is a special file that acts like a shortcut and stores the path to another file. If the original file is deleted, the soft link becomes invalid\n",
        "\n",
        "3.What is a Kernel in Linux?\n",
        "  \n",
        "  - The kernel is the main part of Linux that controls the computer.\n",
        "  It connects the software with the hardware.It's like a manager that makes sure software and hardware work together properly.\n",
        "\n",
        "4.How do you create a user account?\n",
        "\n",
        "  - Using sudo adduser [username] command\n",
        "\n",
        "5.What is the ‘grep’ command used for in Linux?\n",
        "  \n",
        "  - The grep command in Linux is used to search for specific text or patterns inside files.It shows the lines that match the text you are looking for.\n",
        "\n",
        "6.Step1: Create user p1\n",
        "\n",
        " Step2: He should be part of 3 groups g1,g2,g3.\n",
        "\n",
        " Step3: whenever he creates a file automatically in the group section of file grp g1 should come.\n",
        "\n",
        ""
      ],
      "metadata": {
        "id": "sz3tuPiWVVSx"
      }
    },
    {
      "cell_type": "code",
      "execution_count": null,
      "metadata": {
        "id": "v_HDAnrSU_JI"
      },
      "outputs": [],
      "source": [
        "sudo groupadd g1\n",
        "sudo groupadd g2\n",
        "sudo groupadd g3\n",
        "sudo adduser --ingroup g1 p1\n",
        "sudo usermod -aG g2,g3 p1\n",
        "\n",
        "\n"
      ]
    },
    {
      "cell_type": "markdown",
      "source": [
        "7.Step1: Create directory /tmp/bg as root user and create files inside it.\n",
        "\n",
        " Step2: “abhi” should be the owner of the directory. He should be able to create files and delete files inside\n",
        "\n",
        " the directory and also he should be able to add content to all files inside the directory.\n",
        "\n",
        ""
      ],
      "metadata": {
        "id": "Ln0YrDdXYsDk"
      }
    },
    {
      "cell_type": "code",
      "source": [
        "sudo mkdir /tmp/bg\n",
        "sudo touch /tmp/bg/file1 /tmp/bg/file2\n",
        "\n",
        "sudo adduser abhi\n",
        "\n",
        "sudo chown -R abhi:abhi /tmp/bg\n",
        "\n",
        "sudo chmod -R 700 /tmp/bg\n",
        "\n"
      ],
      "metadata": {
        "id": "dcyVa_-sZESn"
      },
      "execution_count": null,
      "outputs": []
    },
    {
      "cell_type": "markdown",
      "source": [
        "8.You suspect that a particular process is consuming excessive CPU resources on your Linux server. How would you identify and terminate this process?\n",
        "\n",
        "   "
      ],
      "metadata": {
        "id": "WZuujyZFZUZC"
      }
    },
    {
      "cell_type": "code",
      "source": [
        "htop\n",
        "#identify the process that is consuming excessive CPU resources then get the PID of the process to kill the process.\n",
        "kill [PID]\n"
      ],
      "metadata": {
        "id": "cxkOtP3gZHYD"
      },
      "execution_count": null,
      "outputs": []
    }
  ]
}